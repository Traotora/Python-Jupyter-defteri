{
 "cells": [
  {
   "cell_type": "code",
   "execution_count": null,
   "metadata": {},
   "outputs": [
    {
     "name": "stdout",
     "output_type": "stream",
     "text": [
      "---------------------------------\n",
      "Bir Sayının Bölenlerini Bulama\n",
      "\n",
      "Programdan Çıkmak İçin q'ya Basın\n",
      "------------------------------------\n",
      "sayi:78\n",
      "[1, 2, 3, 6, 13, 26, 39, 78]\n",
      "sayi:4\n",
      "[1, 2, 4]\n",
      "sayi:101\n",
      "[1, 101]\n",
      "sayi:1000000000000000000000000000000000000000000000000000000000000000000000000000000000000000000000000001\n"
     ]
    }
   ],
   "source": [
    "print(\"\"\"---------------------------------\n",
    "Bir Sayının Bölenlerini Bulama\n",
    "\n",
    "Programdan Çıkmak İçin q'ya Basın\n",
    "------------------------------------\"\"\")\n",
    "def bolenleri_bul(sayi):\n",
    "    bolen_listesi=[]\n",
    "    for i in range(1,sayi+1):\n",
    "        if (sayi % i==0):\n",
    "            bolen_listesi.append(i)\n",
    "    return bolen_listesi\n",
    "while True:\n",
    "    sayi = input(\"sayi:\")\n",
    "    if(sayi==\"q\"):\n",
    "        print(\"Programdam Çıkılıyor...\")\n",
    "        break\n",
    "    else:\n",
    "        sayi=int(sayi)\n",
    "        print(bolenleri_bul(sayi))"
   ]
  },
  {
   "cell_type": "code",
   "execution_count": null,
   "metadata": {},
   "outputs": [],
   "source": []
  }
 ],
 "metadata": {
  "kernelspec": {
   "display_name": "Python 3",
   "language": "python",
   "name": "python3"
  },
  "language_info": {
   "codemirror_mode": {
    "name": "ipython",
    "version": 3
   },
   "file_extension": ".py",
   "mimetype": "text/x-python",
   "name": "python",
   "nbconvert_exporter": "python",
   "pygments_lexer": "ipython3",
   "version": "3.8.5"
  }
 },
 "nbformat": 4,
 "nbformat_minor": 4
}
