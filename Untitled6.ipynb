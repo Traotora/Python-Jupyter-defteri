{
 "cells": [
  {
   "cell_type": "code",
   "execution_count": 2,
   "metadata": {},
   "outputs": [],
   "source": [
    "def Selamla():\n",
    "    print(\"Merhaba\")\n",
    "    print(\"Nasılsınız\")\n"
   ]
  },
  {
   "cell_type": "code",
   "execution_count": 5,
   "metadata": {},
   "outputs": [
    {
     "name": "stdout",
     "output_type": "stream",
     "text": [
      "İsminiz Mahir\n"
     ]
    }
   ],
   "source": [
    "def Merhaba(isim):\n",
    "    print(\"İsminiz\",isim)\n",
    "Merhaba(\"Mahir\")"
   ]
  },
  {
   "cell_type": "code",
   "execution_count": 8,
   "metadata": {},
   "outputs": [
    {
     "name": "stdout",
     "output_type": "stream",
     "text": [
      "3 + 4 + 5 toplamı: 12\n",
      "12 + 45 + 98 toplamı: 155\n"
     ]
    }
   ],
   "source": [
    "def Sum(a,b,c):\n",
    "    print(\"{} + {} + {} toplamı: {}\".format(a,b,c,a+b+c))\n",
    "    \n",
    "Sum(3,4,5)\n",
    "Sum(12,45,98)"
   ]
  },
  {
   "cell_type": "code",
   "execution_count": 10,
   "metadata": {},
   "outputs": [
    {
     "name": "stdout",
     "output_type": "stream",
     "text": [
      "Faktoriyel 720\n"
     ]
    }
   ],
   "source": [
    "def Faktoriyel(sayi):\n",
    "    faktoriyel =1\n",
    "    if (sayi==0 or sayi==1):\n",
    "        print(\"Faktoriyel\",faktoriyel)\n",
    "    else:\n",
    "        while(sayi>1):\n",
    "            faktoriyel*=sayi\n",
    "            sayi-=1\n",
    "        print(\"Faktoriyel\",faktoriyel)\n",
    "Faktoriyel(6)"
   ]
  },
  {
   "cell_type": "markdown",
   "metadata": {},
   "source": [
    "#return\n",
    "\n"
   ]
  },
  {
   "cell_type": "code",
   "execution_count": 18,
   "metadata": {},
   "outputs": [
    {
     "name": "stdout",
     "output_type": "stream",
     "text": [
      "3 + 4 + 5 toplamı: 12\n",
      "<class 'NoneType'>\n"
     ]
    }
   ],
   "source": [
    "#return\n",
    "def ikiyleCarp(a):\n",
    "    print(\"İkiyle carp\",a*2)\n",
    "toplam=Sum(3,4,5)\n",
    "#print(type(toplam))#noneType yazar.\n",
    "\n"
   ]
  },
  {
   "cell_type": "code",
   "execution_count": 22,
   "metadata": {},
   "outputs": [
    {
     "name": "stdout",
     "output_type": "stream",
     "text": [
      "24\n"
     ]
    }
   ],
   "source": [
    "def Toplama(a,b,c):\n",
    "    return a+b+c\n",
    "def ikiyleCarp(a):\n",
    "    return a*2\n",
    "toplam=Toplama(3,4,5)\n",
    "print(ikiyleCarp(toplam))"
   ]
  },
  {
   "cell_type": "code",
   "execution_count": 23,
   "metadata": {},
   "outputs": [
    {
     "name": "stdout",
     "output_type": "stream",
     "text": [
      "1. Fonksiyon Çalıştı\n",
      "2. Fonksiyom Çalıştı\n",
      "3. Fonksiyon Çalıştı\n",
      "4.25\n"
     ]
    }
   ],
   "source": [
    "def UcleCarp(a):\n",
    "    print(\"1. Fonksiyon Çalıştı\")\n",
    "    return a*3\n",
    "def IkiyleTopla(a):\n",
    "    print(\"2. Fonksiyom Çalıştı\")\n",
    "    return a+2\n",
    "def DordeBol(a):\n",
    "    print(\"3. Fonksiyon Çalıştı\")\n",
    "    return a/4\n",
    "print(DordeBol(IkiyleTopla(UcleCarp(5))))"
   ]
  },
  {
   "cell_type": "code",
   "execution_count": 26,
   "metadata": {},
   "outputs": [],
   "source": [
    "def Toplama(a,b,c):\n",
    "    return a+b+c\n",
    "    print(\"Toplama Fonksiyonu\")#Çalışmaz"
   ]
  },
  {
   "cell_type": "code",
   "execution_count": 27,
   "metadata": {},
   "outputs": [
    {
     "name": "stdout",
     "output_type": "stream",
     "text": [
      "Selam Isimsiz\n"
     ]
    }
   ],
   "source": [
    "#parametre ve argümanlar\n",
    "def Selamla(isim=\"Isimsiz\"):\n",
    "    print(\"Selam\",isim)\n",
    "Selamla()"
   ]
  },
  {
   "cell_type": "code",
   "execution_count": 28,
   "metadata": {},
   "outputs": [
    {
     "name": "stdout",
     "output_type": "stream",
     "text": [
      "Selam Mahir\n"
     ]
    }
   ],
   "source": [
    "#parametre ve argümanlar\n",
    "def Selamla(isim=\"Isimsiz\"):\n",
    "    print(\"Selam\",isim)\n",
    "Selamla(\"Mahir\")"
   ]
  },
  {
   "cell_type": "code",
   "execution_count": 30,
   "metadata": {},
   "outputs": [
    {
     "name": "stdout",
     "output_type": "stream",
     "text": [
      "Ad: Mahir | Soyad: TAŞTEMÜR | Numara: Bilgi yok\n"
     ]
    }
   ],
   "source": [
    "def BilgileriGoster(ad=\"Bilgi yok\",soyad=\"Bilgi yok\",numara=\"Bilgi yok\"):\n",
    "    print(\"Ad:\",ad,\"| Soyad:\",soyad,\"| Numara:\",numara)\n",
    "BilgileriGoster(\"Mahir\",\"TAŞTEMÜR\")"
   ]
  },
  {
   "cell_type": "code",
   "execution_count": 31,
   "metadata": {},
   "outputs": [
    {
     "name": "stdout",
     "output_type": "stream",
     "text": [
      "Ad: Mahir | Soyad: TAŞTEMÜR | Numara: Bilgi yok\n",
      "Ad: Bilgi yok | Soyad: Bilgi yok | Numara: 9898\n"
     ]
    }
   ],
   "source": [
    "def BilgileriGoster(ad=\"Bilgi yok\",soyad=\"Bilgi yok\",numara=\"Bilgi yok\"):\n",
    "    print(\"Ad:\",ad,\"| Soyad:\",soyad,\"| Numara:\",numara)\n",
    "BilgileriGoster(\"Mahir\",\"TAŞTEMÜR\")\n",
    "BilgileriGoster(numara=\"9898\")"
   ]
  },
  {
   "cell_type": "code",
   "execution_count": 33,
   "metadata": {},
   "outputs": [
    {
     "name": "stdout",
     "output_type": "stream",
     "text": [
      "(1, 2, 3)\n"
     ]
    }
   ],
   "source": [
    "def Toplama23(*a):\n",
    "    print(a)\n",
    "Toplama23(1,2,3)"
   ]
  },
  {
   "cell_type": "code",
   "execution_count": 35,
   "metadata": {},
   "outputs": [
    {
     "name": "stdout",
     "output_type": "stream",
     "text": [
      "28\n"
     ]
    }
   ],
   "source": [
    "def Toplama23(*a):\n",
    "    toplam=0\n",
    "    for i in a:\n",
    "        toplam+=i\n",
    "    print(toplam)\n",
    "Toplama23(1,2,3,4,5,6,7)     "
   ]
  },
  {
   "cell_type": "markdown",
   "metadata": {},
   "source": [
    "l"
   ]
  },
  {
   "cell_type": "code",
   "execution_count": 36,
   "metadata": {},
   "outputs": [
    {
     "name": "stdout",
     "output_type": "stream",
     "text": [
      "10\n"
     ]
    }
   ],
   "source": [
    "#global ve yerel değişknler\n",
    "def fonk():\n",
    "    a=10\n",
    "    print(a)\n",
    "fonk()"
   ]
  },
  {
   "cell_type": "code",
   "execution_count": 37,
   "metadata": {},
   "outputs": [
    {
     "name": "stdout",
     "output_type": "stream",
     "text": [
      "5\n"
     ]
    }
   ],
   "source": [
    "a=5 #Global isim alanında bir değişken.\n",
    "def fonk():\n",
    "    print(a)# a değişkeni globalde tanımlandığı için.\n",
    "fonk()"
   ]
  },
  {
   "cell_type": "code",
   "execution_count": 38,
   "metadata": {},
   "outputs": [
    {
     "ename": "NameError",
     "evalue": "name 's' is not defined",
     "output_type": "error",
     "traceback": [
      "\u001b[1;31m---------------------------------------------------------------------------\u001b[0m",
      "\u001b[1;31mNameError\u001b[0m                                 Traceback (most recent call last)",
      "\u001b[1;32m<ipython-input-38-d79ea2df81ee>\u001b[0m in \u001b[0;36m<module>\u001b[1;34m\u001b[0m\n\u001b[0;32m      1\u001b[0m \u001b[1;32mdef\u001b[0m \u001b[0mfonksiyon\u001b[0m\u001b[1;33m(\u001b[0m\u001b[1;33m)\u001b[0m\u001b[1;33m:\u001b[0m\u001b[1;33m\u001b[0m\u001b[1;33m\u001b[0m\u001b[0m\n\u001b[0;32m      2\u001b[0m     \u001b[0mprint\u001b[0m\u001b[1;33m(\u001b[0m\u001b[0ms\u001b[0m\u001b[1;33m)\u001b[0m\u001b[1;33m\u001b[0m\u001b[1;33m\u001b[0m\u001b[0m\n\u001b[1;32m----> 3\u001b[1;33m \u001b[0mfonksiyon\u001b[0m\u001b[1;33m(\u001b[0m\u001b[1;33m)\u001b[0m\u001b[1;33m\u001b[0m\u001b[1;33m\u001b[0m\u001b[0m\n\u001b[0m\u001b[0;32m      4\u001b[0m \u001b[0ms\u001b[0m\u001b[1;33m=\u001b[0m\u001b[1;34m\"python\"\u001b[0m\u001b[1;33m\u001b[0m\u001b[1;33m\u001b[0m\u001b[0m\n",
      "\u001b[1;32m<ipython-input-38-d79ea2df81ee>\u001b[0m in \u001b[0;36mfonksiyon\u001b[1;34m()\u001b[0m\n\u001b[0;32m      1\u001b[0m \u001b[1;32mdef\u001b[0m \u001b[0mfonksiyon\u001b[0m\u001b[1;33m(\u001b[0m\u001b[1;33m)\u001b[0m\u001b[1;33m:\u001b[0m\u001b[1;33m\u001b[0m\u001b[1;33m\u001b[0m\u001b[0m\n\u001b[1;32m----> 2\u001b[1;33m     \u001b[0mprint\u001b[0m\u001b[1;33m(\u001b[0m\u001b[0ms\u001b[0m\u001b[1;33m)\u001b[0m\u001b[1;33m\u001b[0m\u001b[1;33m\u001b[0m\u001b[0m\n\u001b[0m\u001b[0;32m      3\u001b[0m \u001b[0mfonksiyon\u001b[0m\u001b[1;33m(\u001b[0m\u001b[1;33m)\u001b[0m\u001b[1;33m\u001b[0m\u001b[1;33m\u001b[0m\u001b[0m\n\u001b[0;32m      4\u001b[0m \u001b[0ms\u001b[0m\u001b[1;33m=\u001b[0m\u001b[1;34m\"python\"\u001b[0m\u001b[1;33m\u001b[0m\u001b[1;33m\u001b[0m\u001b[0m\n",
      "\u001b[1;31mNameError\u001b[0m: name 's' is not defined"
     ]
    }
   ],
   "source": [
    "def fonksiyon():\n",
    "    print(s)\n",
    "fonksiyon()# s global değikeni henüz tanımlanmadığı için...\n",
    "s=\"python\""
   ]
  },
  {
   "cell_type": "code",
   "execution_count": 39,
   "metadata": {},
   "outputs": [
    {
     "name": "stdout",
     "output_type": "stream",
     "text": [
      "2\n",
      "10\n"
     ]
    }
   ],
   "source": [
    "c=10\n",
    "def fonk():\n",
    "    c=2\n",
    "    print(c)# Yerel değişken kullanılıyor.\n",
    "fonk()\n",
    "print(c)"
   ]
  },
  {
   "cell_type": "code",
   "execution_count": 40,
   "metadata": {},
   "outputs": [],
   "source": [
    "#Lambda ifadeleri\n",
    "list=[1,2,3,4,5]\n"
   ]
  },
  {
   "cell_type": "code",
   "execution_count": 41,
   "metadata": {},
   "outputs": [
    {
     "name": "stdout",
     "output_type": "stream",
     "text": [
      "6\n"
     ]
    }
   ],
   "source": [
    "ikiyleCarp= lambda x :x*2\n",
    "print(ikiyleCarp(3))"
   ]
  },
  {
   "cell_type": "code",
   "execution_count": 42,
   "metadata": {},
   "outputs": [
    {
     "name": "stdout",
     "output_type": "stream",
     "text": [
      "rihaM\n"
     ]
    }
   ],
   "source": [
    "tersCevir=lambda isim : isim[::-1]\n",
    "print(tersCevir(\"Mahir\"))"
   ]
  },
  {
   "cell_type": "code",
   "execution_count": 49,
   "metadata": {},
   "outputs": [
    {
     "name": "stdout",
     "output_type": "stream",
     "text": [
      "False\n"
     ]
    }
   ],
   "source": [
    "mod = lambda tekCift :tekCift%2==0\n",
    "print(mod(45))"
   ]
  },
  {
   "cell_type": "code",
   "execution_count": null,
   "metadata": {},
   "outputs": [],
   "source": [
    "print(\"\"\"-------------------------------\n",
    "Bir Sayının Bölenlerini Bulama\n",
    "\n",
    "Programdan Çıkmak İçin q'ya Basın\n",
    "------------------------------------\"\"\")\n",
    "def bolenleri_bul(sayi):\n",
    "    bolen_listesi=[]\n",
    "    for i in range(1,say,+1):\n",
    "        if (sayi % i==0):\n",
    "            bolen_listesi.append(i)\n",
    "    return bolen_listesi\n",
    "while True:\n",
    "    sayi = input(\"sayi:\")\n",
    "    if(sayi==\"q\"):\n",
    "        print(\"programdam Çıkılıyor...\")\n",
    "        break\n",
    "    else:\n",
    "        sayi=int(sayi)\n",
    "        print(bolenleri_bul(sayi))"
   ]
  },
  {
   "cell_type": "code",
   "execution_count": null,
   "metadata": {},
   "outputs": [],
   "source": []
  }
 ],
 "metadata": {
  "kernelspec": {
   "display_name": "Python 3",
   "language": "python",
   "name": "python3"
  },
  "language_info": {
   "codemirror_mode": {
    "name": "ipython",
    "version": 3
   },
   "file_extension": ".py",
   "mimetype": "text/x-python",
   "name": "python",
   "nbconvert_exporter": "python",
   "pygments_lexer": "ipython3",
   "version": "3.8.5"
  }
 },
 "nbformat": 4,
 "nbformat_minor": 4
}
