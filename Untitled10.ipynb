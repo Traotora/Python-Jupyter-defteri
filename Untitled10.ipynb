{
 "cells": [
  {
   "cell_type": "code",
   "execution_count": 1,
   "metadata": {},
   "outputs": [
    {
     "name": "stdout",
     "output_type": "stream",
     "text": [
      "P. burada\n",
      "Bloklar sona erdi\n"
     ]
    }
   ],
   "source": [
    "try:\n",
    "    a= int(\"23\")\n",
    "    print(\"P. burada\")\n",
    "except:\n",
    "    print(\"bir hata oluştu\")\n",
    "print(\"Bloklar sona erdi\")"
   ]
  },
  {
   "cell_type": "code",
   "execution_count": 3,
   "metadata": {},
   "outputs": [
    {
     "name": "stdout",
     "output_type": "stream",
     "text": [
      "Sayı 1:12\n",
      "Sayı 2:0\n",
      "Bir sayı 0'a bölünmez.\n",
      "Bloklar sona erdi.\n"
     ]
    }
   ],
   "source": [
    "try:\n",
    "    a= int(input(\"Sayı 1:\"))\n",
    "    b= int(input(\"Sayı 2:\"))\n",
    "    print(a/b)\n",
    "except ValueError:\n",
    "        print(\"Lütfen inputu doğru gir.\")\n",
    "except ZeroDivisionError:\n",
    "    print(\"Bir sayı 0'a bölünmez.\")\n",
    "print(\"Bloklar sona erdi.\")"
   ]
  },
  {
   "cell_type": "code",
   "execution_count": 4,
   "metadata": {},
   "outputs": [
    {
     "name": "stdout",
     "output_type": "stream",
     "text": [
      "Sayı 1:0\n",
      "Sayı 2:54\n",
      "0.0\n",
      "Burası çalıştı.\n",
      "Bloklar sona erdi.\n"
     ]
    }
   ],
   "source": [
    "try:\n",
    "    a= int(input(\"Sayı 1:\"))\n",
    "    b= int(input(\"Sayı 2:\"))\n",
    "    print(a/b)\n",
    "except ValueError:\n",
    "        print(\"Lütfen inputu doğru gir.\")\n",
    "except ZeroDivisionError:\n",
    "    print(\"Bir sayı 0'a bölünmez.\")\n",
    "finally:\n",
    "    print(\"Burası çalıştı.\")#Mutlaka çaışır. her şekilde çalışır...\n",
    "print(\"Bloklar sona erdi.\")\n",
    "    "
   ]
  },
  {
   "cell_type": "code",
   "execution_count": null,
   "metadata": {},
   "outputs": [],
   "source": [
    "#gerekli kütüphane\n",
    "\n",
    "import os\n",
    "\n",
    "#O klasördeki dosyaların listesi\n",
    "files=os.listdir()\n",
    "\n",
    "for f in files:\n",
    "    # .py uzantılı olmayan dosyaları silme işlemi\n",
    "    if not f.endswith"
   ]
  }
 ],
 "metadata": {
  "kernelspec": {
   "display_name": "Python 3",
   "language": "python",
   "name": "python3"
  },
  "language_info": {
   "codemirror_mode": {
    "name": "ipython",
    "version": 3
   },
   "file_extension": ".py",
   "mimetype": "text/x-python",
   "name": "python",
   "nbconvert_exporter": "python",
   "pygments_lexer": "ipython3",
   "version": "3.8.5"
  }
 },
 "nbformat": 4,
 "nbformat_minor": 4
}
