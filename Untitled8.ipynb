{
 "cells": [
  {
   "cell_type": "code",
   "execution_count": 20,
   "metadata": {},
   "outputs": [],
   "source": [
    "class Yazilimci():\n",
    "    def __init__(self,isim,soyisim,numara,maas,diller):\n",
    "        self.isim=isim\n",
    "        self.soyisim=soyisim\n",
    "        self.numara=numara\n",
    "        self.maas=maas\n",
    "        self.diller=diller\n",
    "    def BilgileriGoster(self):\n",
    "\n",
    "        print(\"\"\" \n",
    "        |Adı: {}  \n",
    "        |Soyadı: {} \n",
    "        |Numarası: {} \n",
    "        |Maaşı: {} \n",
    "        |Bildiği Diller: {} \"\"\".format(self.isim,self.soyisim,self.numara,self.maas,self.diller))\n"
   ]
  },
  {
   "cell_type": "code",
   "execution_count": 23,
   "metadata": {},
   "outputs": [
    {
     "name": "stdout",
     "output_type": "stream",
     "text": [
      "<bound method Yazilimci.BilgileriGoster of <__main__.Yazilimci object at 0x00000235CE837550>>\n"
     ]
    }
   ],
   "source": [
    "yazilimci=Yazilimci(\"Mahir\",\"TAŞTEMÜR\",9898,7500,[\"cpp\",\"c\"])\n",
    "print(yazilimci.BilgileriGoster)"
   ]
  },
  {
   "cell_type": "code",
   "execution_count": null,
   "metadata": {},
   "outputs": [],
   "source": []
  },
  {
   "cell_type": "code",
   "execution_count": null,
   "metadata": {},
   "outputs": [],
   "source": []
  },
  {
   "cell_type": "code",
   "execution_count": null,
   "metadata": {},
   "outputs": [],
   "source": []
  },
  {
   "cell_type": "code",
   "execution_count": null,
   "metadata": {},
   "outputs": [],
   "source": []
  }
 ],
 "metadata": {
  "kernelspec": {
   "display_name": "Python 3",
   "language": "python",
   "name": "python3"
  },
  "language_info": {
   "codemirror_mode": {
    "name": "ipython",
    "version": 3
   },
   "file_extension": ".py",
   "mimetype": "text/x-python",
   "name": "python",
   "nbconvert_exporter": "python",
   "pygments_lexer": "ipython3",
   "version": "3.8.5"
  }
 },
 "nbformat": 4,
 "nbformat_minor": 4
}
