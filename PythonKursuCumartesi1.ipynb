{
 "cells": [
  {
   "cell_type": "code",
   "execution_count": 1,
   "metadata": {},
   "outputs": [
    {
     "name": "stdout",
     "output_type": "stream",
     "text": [
      "10\n"
     ]
    }
   ],
   "source": [
    "yeniDegisken= 10\n",
    "print(yeniDegisken)"
   ]
  },
  {
   "cell_type": "code",
   "execution_count": 2,
   "metadata": {},
   "outputs": [
    {
     "name": "stdout",
     "output_type": "stream",
     "text": [
      "15\n"
     ]
    }
   ],
   "source": [
    "yeniDegisken= 15\n",
    "print(yeniDegisken)"
   ]
  },
  {
   "cell_type": "code",
   "execution_count": 3,
   "metadata": {},
   "outputs": [
    {
     "name": "stdout",
     "output_type": "stream",
     "text": [
      "2.65\n"
     ]
    }
   ],
   "source": [
    "yeniDegisken= 2.65\n",
    "print(yeniDegisken)"
   ]
  },
  {
   "cell_type": "code",
   "execution_count": 4,
   "metadata": {},
   "outputs": [
    {
     "name": "stdout",
     "output_type": "stream",
     "text": [
      "5 4\n"
     ]
    }
   ],
   "source": [
    "k=4\n",
    "l=5\n",
    "k,l=l,k\n",
    "print(k,l)"
   ]
  },
  {
   "cell_type": "code",
   "execution_count": 5,
   "metadata": {},
   "outputs": [
    {
     "name": "stdout",
     "output_type": "stream",
     "text": [
      "9\n",
      "9\n"
     ]
    }
   ],
   "source": [
    "i=5\n",
    "i=i+1\n",
    "i +=3\n",
    "print(i)\n",
    "k +=4\n",
    "print(k)"
   ]
  },
  {
   "cell_type": "code",
   "execution_count": 6,
   "metadata": {},
   "outputs": [
    {
     "name": "stdout",
     "output_type": "stream",
     "text": [
      "20\n"
     ]
    }
   ],
   "source": [
    "k -=4\n",
    "k *=4\n",
    "print(k)"
   ]
  },
  {
   "cell_type": "code",
   "execution_count": 7,
   "metadata": {},
   "outputs": [
    {
     "name": "stdout",
     "output_type": "stream",
     "text": [
      "24\n"
     ]
    }
   ],
   "source": [
    "print(k+l)"
   ]
  },
  {
   "cell_type": "code",
   "execution_count": 8,
   "metadata": {},
   "outputs": [
    {
     "name": "stdout",
     "output_type": "stream",
     "text": [
      "Merhaba\n",
      "Dunya\n",
      "\n"
     ]
    }
   ],
   "source": [
    "print(\"Merhaba\\nDunya\\n\")"
   ]
  },
  {
   "cell_type": "code",
   "execution_count": 10,
   "metadata": {},
   "outputs": [
    {
     "name": "stdout",
     "output_type": "stream",
     "text": [
      "a\n",
      "\t\u0007\tb\n"
     ]
    }
   ],
   "source": [
    "print(\"a\\n\\t\\a\\tb\")"
   ]
  },
  {
   "cell_type": "code",
   "execution_count": 11,
   "metadata": {},
   "outputs": [
    {
     "name": "stdout",
     "output_type": "stream",
     "text": [
      "01/02/1436\n"
     ]
    }
   ],
   "source": [
    "print(\"01\",\"02\",\"1436\",sep=\"/\")"
   ]
  },
  {
   "cell_type": "code",
   "execution_count": 13,
   "metadata": {},
   "outputs": [
    {
     "name": "stdout",
     "output_type": "stream",
     "text": [
      "T.B.M.M. \n"
     ]
    }
   ],
   "source": [
    "print(*\"TBMM \",sep=\".\")"
   ]
  },
  {
   "cell_type": "code",
   "execution_count": 17,
   "metadata": {},
   "outputs": [
    {
     "name": "stdout",
     "output_type": "stream",
     "text": [
      "4 + 7 'nin toplamı 11 'dir.\n"
     ]
    }
   ],
   "source": [
    "yeniDeger=4\n",
    "g=7\n",
    "print(\"{} + {} 'nin toplamı {} 'dir.\".format(yeniDeger,g,yeniDeger+g))\n"
   ]
  },
  {
   "cell_type": "code",
   "execution_count": 16,
   "metadata": {},
   "outputs": [
    {
     "name": "stdout",
     "output_type": "stream",
     "text": [
      "Talha 47 27\n"
     ]
    }
   ],
   "source": [
    "print(\"{1} {0} {2}\".format(47,\"Talha\",27))"
   ]
  },
  {
   "cell_type": "code",
   "execution_count": 18,
   "metadata": {},
   "outputs": [
    {
     "name": "stdout",
     "output_type": "stream",
     "text": [
      "7 -1 12 8.142857142857142 8\n"
     ]
    }
   ],
   "source": [
    "a=3+4\n",
    "b=3-4\n",
    "c=3*4\n",
    "d=57/7\n",
    "e=56//7\n",
    "print(a,b,c,d,e)"
   ]
  },
  {
   "cell_type": "code",
   "execution_count": 19,
   "metadata": {},
   "outputs": [
    {
     "name": "stdout",
     "output_type": "stream",
     "text": [
      "-4.0\n"
     ]
    }
   ],
   "source": [
    "k=8+4*3/2-18\n",
    "print(k)"
   ]
  },
  {
   "cell_type": "code",
   "execution_count": 20,
   "metadata": {},
   "outputs": [
    {
     "name": "stdout",
     "output_type": "stream",
     "text": [
      "25\n"
     ]
    }
   ],
   "source": [
    "d=5**2\n",
    "print(d)"
   ]
  },
  {
   "cell_type": "code",
   "execution_count": 21,
   "metadata": {},
   "outputs": [
    {
     "name": "stdout",
     "output_type": "stream",
     "text": [
      "1\n"
     ]
    }
   ],
   "source": [
    "a=13%4\n",
    "print(a)"
   ]
  },
  {
   "cell_type": "code",
   "execution_count": 23,
   "metadata": {},
   "outputs": [
    {
     "name": "stdout",
     "output_type": "stream",
     "text": [
      "Mahir TAŞTEMÜR Python Öğreniyorum\n"
     ]
    }
   ],
   "source": [
    "newString='Mahir TAŞTEMÜR'\n",
    "newStringTwo=\"Python Öğreniyorum\" #\n",
    "print(newString,newStringTwo)"
   ]
  },
  {
   "cell_type": "code",
   "execution_count": 26,
   "metadata": {},
   "outputs": [
    {
     "name": "stdout",
     "output_type": "stream",
     "text": [
      "<class 'str'>\n"
     ]
    }
   ],
   "source": [
    "print(type(newString))"
   ]
  },
  {
   "cell_type": "code",
   "execution_count": 27,
   "metadata": {},
   "outputs": [
    {
     "name": "stdout",
     "output_type": "stream",
     "text": [
      "M\n",
      "R\n",
      "h\n",
      "r\n"
     ]
    }
   ],
   "source": [
    "print(newString[0])\n",
    "print(newString[-1])\n",
    "print(newString[2])\n",
    "print(newString[4])\n"
   ]
  },
  {
   "cell_type": "code",
   "execution_count": 28,
   "metadata": {},
   "outputs": [
    {
     "name": "stdout",
     "output_type": "stream",
     "text": [
      "Mahir\n",
      "MhrTŞE\n",
      "r TAŞTEMÜR\n",
      "Mahir TAŞTE\n",
      "Mahir TAŞTEMÜR\n",
      "Mahir TAŞTEMÜ\n",
      "MhrTŞEÜ\n",
      "RÜMETŞAT rihaM\n"
     ]
    }
   ],
   "source": [
    "print(newString[0:5])\n",
    "print(newString[0:11:2])\n",
    "print(newString[4:])\n",
    "print(newString[:11])\n",
    "print(newString[:])\n",
    "print(newString[:-1])\n",
    "print(newString[::2])\n",
    "print(newString[::-1])#Tersten yazdırır."
   ]
  },
  {
   "cell_type": "code",
   "execution_count": 32,
   "metadata": {},
   "outputs": [
    {
     "name": "stdout",
     "output_type": "stream",
     "text": [
      "7\n"
     ]
    }
   ],
   "source": [
    "newStringThree=\"Merhaba\"\n",
    "print(len(newStringThree))"
   ]
  },
  {
   "cell_type": "code",
   "execution_count": 37,
   "metadata": {},
   "outputs": [
    {
     "name": "stdout",
     "output_type": "stream",
     "text": [
      "pythonpythonpython\n"
     ]
    }
   ],
   "source": [
    "p=\"python\"\n",
    "m=\"programlama\"\n",
    "n=\"dili\"\n",
    "t=p + m + n\n",
    "t=p*3\n",
    "print(t)"
   ]
  },
  {
   "cell_type": "code",
   "execution_count": 38,
   "metadata": {},
   "outputs": [
    {
     "name": "stdout",
     "output_type": "stream",
     "text": [
      "Mahir TAŞTEMÜR\n"
     ]
    }
   ],
   "source": [
    "r=\"Mahir\"\n",
    "w=r + \" TAŞTEMÜR\"\n",
    "print(w)"
   ]
  },
  {
   "cell_type": "code",
   "execution_count": 39,
   "metadata": {},
   "outputs": [
    {
     "name": "stdout",
     "output_type": "stream",
     "text": [
      "43.0\n",
      "-1.0\n"
     ]
    }
   ],
   "source": [
    "a=43\n",
    "print(float(a))\n",
    "print(float(-1))"
   ]
  },
  {
   "cell_type": "code",
   "execution_count": 40,
   "metadata": {},
   "outputs": [
    {
     "name": "stdout",
     "output_type": "stream",
     "text": [
      "11.0\n"
     ]
    }
   ],
   "source": [
    "print(float(46//4))"
   ]
  },
  {
   "cell_type": "code",
   "execution_count": 42,
   "metadata": {},
   "outputs": [
    {
     "name": "stdout",
     "output_type": "stream",
     "text": [
      "345\n",
      "3\n"
     ]
    }
   ],
   "source": [
    "print(str(345))\n",
    "print(len(str(345)))\n",
    "      "
   ]
  },
  {
   "cell_type": "code",
   "execution_count": 43,
   "metadata": {},
   "outputs": [
    {
     "ename": "ValueError",
     "evalue": "invalid literal for int() with base 10: '34654376jtd'",
     "output_type": "error",
     "traceback": [
      "\u001b[1;31m---------------------------------------------------------------------------\u001b[0m",
      "\u001b[1;31mValueError\u001b[0m                                Traceback (most recent call last)",
      "\u001b[1;32m<ipython-input-43-5323ffbda090>\u001b[0m in \u001b[0;36m<module>\u001b[1;34m\u001b[0m\n\u001b[0;32m      1\u001b[0m \u001b[0mc\u001b[0m\u001b[1;33m=\u001b[0m\u001b[1;34m\"34654376jtd\"\u001b[0m\u001b[1;33m\u001b[0m\u001b[1;33m\u001b[0m\u001b[0m\n\u001b[1;32m----> 2\u001b[1;33m \u001b[0mprint\u001b[0m\u001b[1;33m(\u001b[0m\u001b[0mint\u001b[0m\u001b[1;33m(\u001b[0m\u001b[0mc\u001b[0m\u001b[1;33m)\u001b[0m\u001b[1;33m)\u001b[0m\u001b[1;33m\u001b[0m\u001b[1;33m\u001b[0m\u001b[0m\n\u001b[0m",
      "\u001b[1;31mValueError\u001b[0m: invalid literal for int() with base 10: '34654376jtd'"
     ]
    }
   ],
   "source": [
    "c=\"34654376jtd\" \n",
    "print(int(c)) #c'nin içinde harlelrde tanımlandığı için integer değeri okuyamadı, hata verdi."
   ]
  },
  {
   "cell_type": "code",
   "execution_count": 44,
   "metadata": {},
   "outputs": [
    {
     "name": "stdout",
     "output_type": "stream",
     "text": [
      "32465436\n"
     ]
    }
   ],
   "source": [
    "c=\"32465436\"\n",
    "print(int(c))"
   ]
  },
  {
   "cell_type": "code",
   "execution_count": 46,
   "metadata": {},
   "outputs": [
    {
     "ename": "ValueError",
     "evalue": "invalid literal for int() with base 10: '55.574577.35'",
     "output_type": "error",
     "traceback": [
      "\u001b[1;31m---------------------------------------------------------------------------\u001b[0m",
      "\u001b[1;31mValueError\u001b[0m                                Traceback (most recent call last)",
      "\u001b[1;32m<ipython-input-46-e5052c785594>\u001b[0m in \u001b[0;36m<module>\u001b[1;34m\u001b[0m\n\u001b[0;32m      1\u001b[0m \u001b[0md\u001b[0m\u001b[1;33m=\u001b[0m\u001b[1;34m\"55.574577.35\"\u001b[0m\u001b[1;33m\u001b[0m\u001b[1;33m\u001b[0m\u001b[0m\n\u001b[1;32m----> 2\u001b[1;33m \u001b[0mprint\u001b[0m\u001b[1;33m(\u001b[0m\u001b[0mint\u001b[0m\u001b[1;33m(\u001b[0m\u001b[0md\u001b[0m\u001b[1;33m)\u001b[0m\u001b[1;33m)\u001b[0m\u001b[1;33m\u001b[0m\u001b[1;33m\u001b[0m\u001b[0m\n\u001b[0m",
      "\u001b[1;31mValueError\u001b[0m: invalid literal for int() with base 10: '55.574577.35'"
     ]
    }
   ],
   "source": [
    "d=\"55.574577.35\" #noktalar yüzünden hata verdi.\n",
    "print(int(d))"
   ]
  },
  {
   "cell_type": "code",
   "execution_count": 51,
   "metadata": {},
   "outputs": [
    {
     "name": "stdout",
     "output_type": "stream",
     "text": [
      "<class 'list'>\n"
     ]
    }
   ],
   "source": [
    "#\n",
    "#\n",
    "liste=[\"Elma\",35 ,1 ,\"Python\",5.49 ,9]\n",
    "print(type(liste))\n",
    "\n",
    "#bosListe=List()\n",
    "#print(type(bosListe))"
   ]
  },
  {
   "cell_type": "code",
   "execution_count": 52,
   "metadata": {},
   "outputs": [
    {
     "name": "stdout",
     "output_type": "stream",
     "text": [
      "7\n"
     ]
    }
   ],
   "source": [
    "#liste parçalama\n",
    "liste4 =[3,4,5,6,7,8,9,10]\n",
    "print(liste4[4])"
   ]
  },
  {
   "cell_type": "code",
   "execution_count": 53,
   "metadata": {},
   "outputs": [
    {
     "name": "stdout",
     "output_type": "stream",
     "text": [
      "[7, 8, 9, 10]\n"
     ]
    }
   ],
   "source": [
    "print(liste4[4:10])\n"
   ]
  },
  {
   "cell_type": "code",
   "execution_count": 54,
   "metadata": {},
   "outputs": [
    {
     "name": "stdout",
     "output_type": "stream",
     "text": [
      "[3, 4, 5, 6, 7]\n"
     ]
    }
   ],
   "source": [
    "print(liste4[:5])"
   ]
  },
  {
   "cell_type": "code",
   "execution_count": 55,
   "metadata": {},
   "outputs": [
    {
     "name": "stdout",
     "output_type": "stream",
     "text": [
      "[3, 5, 7, 9]\n"
     ]
    }
   ],
   "source": [
    "print(liste4[::2])"
   ]
  },
  {
   "cell_type": "code",
   "execution_count": 57,
   "metadata": {
    "scrolled": true
   },
   "outputs": [
    {
     "name": "stdout",
     "output_type": "stream",
     "text": [
      "[10, 9, 8, 7, 6, 5, 4, 3]\n"
     ]
    }
   ],
   "source": [
    "print(liste4[::-1])"
   ]
  },
  {
   "cell_type": "code",
   "execution_count": 58,
   "metadata": {},
   "outputs": [
    {
     "name": "stdout",
     "output_type": "stream",
     "text": [
      "[1, 2, 3, 4, 5, 6]\n"
     ]
    }
   ],
   "source": [
    "liste5= [1,2,3]\n",
    "liste6=[4,5,6]\n",
    "liste7=liste5 + liste6\n",
    "print(liste7)"
   ]
  },
  {
   "cell_type": "code",
   "execution_count": 59,
   "metadata": {},
   "outputs": [
    {
     "name": "stdout",
     "output_type": "stream",
     "text": [
      "[1, 2, 3, 1, 2, 3, 1, 2, 3]\n"
     ]
    }
   ],
   "source": [
    "liste5= liste5*3\n",
    "print(liste5)"
   ]
  },
  {
   "cell_type": "code",
   "execution_count": 60,
   "metadata": {},
   "outputs": [
    {
     "name": "stdout",
     "output_type": "stream",
     "text": [
      "[4, 5, 324]\n"
     ]
    }
   ],
   "source": [
    "liste6[2]= 324\n",
    "print(liste6)"
   ]
  },
  {
   "cell_type": "code",
   "execution_count": 61,
   "metadata": {},
   "outputs": [
    {
     "name": "stdout",
     "output_type": "stream",
     "text": [
      "[20, 21, 324]\n"
     ]
    }
   ],
   "source": [
    "liste6[:2]=[20,21]\n",
    "print(liste6)"
   ]
  },
  {
   "cell_type": "code",
   "execution_count": 62,
   "metadata": {},
   "outputs": [
    {
     "name": "stdout",
     "output_type": "stream",
     "text": [
      "['Elma', 35, 1, 'Python', 5.49, 9, 7]\n"
     ]
    }
   ],
   "source": [
    "#liste motodları\n",
    "#append metodu\n",
    "liste.append(7) # ekleme\n",
    "print(liste)"
   ]
  },
  {
   "cell_type": "code",
   "execution_count": 63,
   "metadata": {},
   "outputs": [
    {
     "name": "stdout",
     "output_type": "stream",
     "text": [
      "['Elma', 35, 1, 'Python', 5.49, 9, 7, 'merhaba']\n"
     ]
    }
   ],
   "source": [
    "liste.append(\"merhaba\")\n",
    "print(liste)"
   ]
  },
  {
   "cell_type": "code",
   "execution_count": 64,
   "metadata": {},
   "outputs": [
    {
     "name": "stdout",
     "output_type": "stream",
     "text": [
      "['Elma', 35, 1, 'Python', 5.49, 9, 'merhaba']\n"
     ]
    }
   ],
   "source": [
    "#pop metodu\n",
    "\n",
    "liste.pop(6) # silmke için .pop kullanılır.\n",
    "print(liste)\n"
   ]
  },
  {
   "cell_type": "code",
   "execution_count": 67,
   "metadata": {},
   "outputs": [
    {
     "name": "stdout",
     "output_type": "stream",
     "text": [
      "[8, 35, 56, 65, 1065]\n"
     ]
    }
   ],
   "source": [
    "# sort metodu / sıralama metodu\n",
    "liste8=[35,65,56,8,1065]\n",
    "liste8.sort() # küçükten büyüğe doğru sıralıyor.\n",
    "print(liste8)"
   ]
  },
  {
   "cell_type": "code",
   "execution_count": 69,
   "metadata": {},
   "outputs": [
    {
     "name": "stdout",
     "output_type": "stream",
     "text": [
      "[1065, 65, 56, 35, 8]\n"
     ]
    }
   ],
   "source": [
    "liste8.sort(reverse=True)#Büyükten küçüğe sıralıyor.\n",
    "print(liste8)"
   ]
  },
  {
   "cell_type": "code",
   "execution_count": 71,
   "metadata": {},
   "outputs": [
    {
     "name": "stdout",
     "output_type": "stream",
     "text": [
      "['C', 'C#', 'C++', 'F#', 'Fortran', 'Pascal', 'Python']\n"
     ]
    }
   ],
   "source": [
    "liste9=[\"C\",\"Python\",\"C++\",\"C#\",\"Fortran\",\"Pascal\",\"F#\"]\n",
    "liste9.sort()\n",
    "print(liste9)"
   ]
  },
  {
   "cell_type": "code",
   "execution_count": 72,
   "metadata": {},
   "outputs": [
    {
     "name": "stdout",
     "output_type": "stream",
     "text": [
      "[3, 4]\n"
     ]
    }
   ],
   "source": [
    "#iç içe listeler\n",
    "\n",
    "newList=[1,2,[3,4],[5,6]]\n",
    "print(newList[2])"
   ]
  },
  {
   "cell_type": "code",
   "execution_count": 73,
   "metadata": {},
   "outputs": [
    {
     "name": "stdout",
     "output_type": "stream",
     "text": [
      "3\n"
     ]
    }
   ],
   "source": [
    "print(newList[2][0])"
   ]
  },
  {
   "cell_type": "code",
   "execution_count": 74,
   "metadata": {},
   "outputs": [
    {
     "name": "stdout",
     "output_type": "stream",
     "text": [
      "<class 'tuple'>\n",
      "3\n",
      "(1, 2, 3, 4)\n"
     ]
    }
   ],
   "source": [
    "#Demetler/Tuplelar\n",
    "\n",
    "demet=(1,2,3,4,5,6,7)\n",
    "print(type(demet))\n",
    "print(demet[2])\n",
    "print(demet[:4])"
   ]
  },
  {
   "cell_type": "code",
   "execution_count": 75,
   "metadata": {},
   "outputs": [
    {
     "name": "stdout",
     "output_type": "stream",
     "text": [
      "8\n",
      "2\n",
      "0\n"
     ]
    }
   ],
   "source": [
    "#Demet Metodları\n",
    "#count\n",
    "demet2=(1,1,1,1,1,1,1,1,2,2,4,5)\n",
    "print(demet2.count(1)) #kaç tane 1 olduğunu sayıyor.\n",
    "print(demet2.count(2)) #\" \" \"  \" 2 \"      \" \"      \"\n",
    "print(demet2.count(7)) #\" \" \"  \" 7 \"      \" \"      \""
   ]
  },
  {
   "cell_type": "code",
   "execution_count": 77,
   "metadata": {},
   "outputs": [
    {
     "ename": "ValueError",
     "evalue": "tuple.index(x): x not in tuple",
     "output_type": "error",
     "traceback": [
      "\u001b[1;31m---------------------------------------------------------------------------\u001b[0m",
      "\u001b[1;31mValueError\u001b[0m                                Traceback (most recent call last)",
      "\u001b[1;32m<ipython-input-77-d5d123cb3810>\u001b[0m in \u001b[0;36m<module>\u001b[1;34m\u001b[0m\n\u001b[0;32m      2\u001b[0m \u001b[1;33m\u001b[0m\u001b[0m\n\u001b[0;32m      3\u001b[0m \u001b[0mdemet3\u001b[0m\u001b[1;33m=\u001b[0m\u001b[1;33m(\u001b[0m\u001b[1;34m\"Python\"\u001b[0m\u001b[1;33m,\u001b[0m\u001b[1;34m\"php\"\u001b[0m\u001b[1;33m,\u001b[0m\u001b[1;34m\"C\"\u001b[0m\u001b[1;33m,\u001b[0m\u001b[1;34m\"Java\"\u001b[0m\u001b[1;33m)\u001b[0m\u001b[1;33m\u001b[0m\u001b[1;33m\u001b[0m\u001b[0m\n\u001b[1;32m----> 4\u001b[1;33m \u001b[0mprint\u001b[0m\u001b[1;33m(\u001b[0m\u001b[0mdemet3\u001b[0m\u001b[1;33m.\u001b[0m\u001b[0mindex\u001b[0m\u001b[1;33m(\u001b[0m\u001b[1;36m2\u001b[0m\u001b[1;33m)\u001b[0m\u001b[1;33m)\u001b[0m\u001b[1;33m\u001b[0m\u001b[1;33m\u001b[0m\u001b[0m\n\u001b[0m",
      "\u001b[1;31mValueError\u001b[0m: tuple.index(x): x not in tuple"
     ]
    }
   ],
   "source": [
    "#index\n",
    "\n",
    "demet3=(\"Python\",\"Php\",\"C\",\"Java\")\n",
    "print(demet3.index(2))"
   ]
  },
  {
   "cell_type": "code",
   "execution_count": 78,
   "metadata": {},
   "outputs": [
    {
     "name": "stdout",
     "output_type": "stream",
     "text": [
      "1\n"
     ]
    }
   ],
   "source": [
    "#sözlükler\n",
    "\n",
    "sozluk={\"bir\":1,\"iki\":2,\"uc\":3,\"dort\":4,\"bes\":5}\n",
    "print(sozluk[\"bir\"])"
   ]
  },
  {
   "cell_type": "code",
   "execution_count": 79,
   "metadata": {},
   "outputs": [
    {
     "name": "stdout",
     "output_type": "stream",
     "text": [
      "5\n",
      "{'bir': 1, 'bes': 5}\n"
     ]
    }
   ],
   "source": [
    "sozluk[\"bes\"]=5\n",
    "print(sozluk[\"bes\"])\n",
    "\n",
    "print(sozluk)"
   ]
  },
  {
   "cell_type": "code",
   "execution_count": 80,
   "metadata": {},
   "outputs": [
    {
     "name": "stdout",
     "output_type": "stream",
     "text": [
      "4\n"
     ]
    }
   ],
   "source": [
    "sozluk3={\"bir\":[1,2,3,4],\"iki\":[[1,2],[3,4],[5,6]],\"uc\":15}\n",
    "print(sozluk3[\"iki\"][1][1])"
   ]
  },
  {
   "cell_type": "code",
   "execution_count": 83,
   "metadata": {},
   "outputs": [
    {
     "name": "stdout",
     "output_type": "stream",
     "text": [
      "{'bir': [1, 2, 3, 4], 'iki': [[1, 2], [3, 4], [5, 6]], 'uc': 15, 'bes': 10}\n"
     ]
    }
   ],
   "source": [
    "sozluk3[\"bes\"]=10\n",
    "print(sozluk3)"
   ]
  },
  {
   "cell_type": "code",
   "execution_count": 84,
   "metadata": {},
   "outputs": [
    {
     "name": "stdout",
     "output_type": "stream",
     "text": [
      "{'bir': [1, 2, 3, 4], 'iki': [[1, 2], [3, 4], [5, 6]], 'uc': 15, 'bes': 11}\n"
     ]
    }
   ],
   "source": [
    "sozluk3[\"bes\"]+=1\n",
    "print(sozluk3)"
   ]
  },
  {
   "cell_type": "code",
   "execution_count": 85,
   "metadata": {},
   "outputs": [
    {
     "name": "stdout",
     "output_type": "stream",
     "text": [
      "2\n"
     ]
    }
   ],
   "source": [
    "sozluk4={\"sayilar\":{\"bir\":1,\"iki\":2,\"uc\":3},\"meyveler\":{\"kiraz\":\"yaz\",\"portakal\":\"kis\",\"erik\":\"yaz\"}}\n",
    "print(sozluk4[\"sayilar\"][\"iki\"])"
   ]
  },
  {
   "cell_type": "markdown",
   "metadata": {},
   "source": [
    "print(sozluk4[\"meyveler\"][\"kiraz\"])"
   ]
  },
  {
   "cell_type": "markdown",
   "metadata": {},
   "source": [
    "print(sozluk4[\"meyveler\"][\"kiraz\"])\n"
   ]
  },
  {
   "cell_type": "code",
   "execution_count": 88,
   "metadata": {},
   "outputs": [
    {
     "name": "stdout",
     "output_type": "stream",
     "text": [
      "yaz\n"
     ]
    }
   ],
   "source": [
    "print(sozluk4[\"meyveler\"][\"kiraz\"])"
   ]
  },
  {
   "cell_type": "code",
   "execution_count": 91,
   "metadata": {},
   "outputs": [
    {
     "name": "stdout",
     "output_type": "stream",
     "text": [
      "dict_keys(['bir', 'bes'])\n",
      "dict_values([1, 10])\n",
      "dict_items([('bir', 1), ('bes', 10)])\n"
     ]
    }
   ],
   "source": [
    "#sozluk metodları\n",
    "\n",
    "print(sozluk.keys())\n",
    "print(sozluk.values())\n",
    "print(sozluk.items())"
   ]
  },
  {
   "cell_type": "code",
   "execution_count": 94,
   "metadata": {},
   "outputs": [
    {
     "name": "stdout",
     "output_type": "stream",
     "text": [
      "Sayi gir:78\n",
      "Kullanicinin yazdigi sayi:  78\n",
      "787878\n",
      "<class 'str'>\n"
     ]
    }
   ],
   "source": [
    "# input\n",
    "\n",
    "z= input(\"Sayi gir:\")\n",
    "print(\"Kullanicinin yazdigi sayi: \",z)\n",
    "print(z*3)\n",
    "print(type(z))"
   ]
  },
  {
   "cell_type": "code",
   "execution_count": 97,
   "metadata": {},
   "outputs": [
    {
     "name": "stdout",
     "output_type": "stream",
     "text": [
      "1. sayiyi gir:45\n",
      "2. sayiyi gir:4\n",
      "3. sayiyi gir:685\n",
      "Girilen 3 sayinin toplamı: 734\n"
     ]
    }
   ],
   "source": [
    "s1=int(input(\"1. sayiyi gir:\"))\n",
    "s2=int(input(\"2. sayiyi gir:\"))\n",
    "s3=int(input(\"3. sayiyi gir:\"))\n",
    "print(\"Girilen 3 sayinin toplamı:\",s1 + s2 + s3)"
   ]
  },
  {
   "cell_type": "code",
   "execution_count": null,
   "metadata": {},
   "outputs": [],
   "source": []
  }
 ],
 "metadata": {
  "kernelspec": {
   "display_name": "Python 3",
   "language": "python",
   "name": "python3"
  },
  "language_info": {
   "codemirror_mode": {
    "name": "ipython",
    "version": 3
   },
   "file_extension": ".py",
   "mimetype": "text/x-python",
   "name": "python",
   "nbconvert_exporter": "python",
   "pygments_lexer": "ipython3",
   "version": "3.8.5"
  }
 },
 "nbformat": 4,
 "nbformat_minor": 4
}
